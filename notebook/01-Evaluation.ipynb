{
 "cells": [
  {
   "cell_type": "code",
   "execution_count": null,
   "metadata": {},
   "outputs": [],
   "source": [
    "%cd .."
   ]
  },
  {
   "cell_type": "code",
   "execution_count": null,
   "metadata": {},
   "outputs": [],
   "source": [
    "import os\n",
    "import json\n",
    "from tqdm import tqdm"
   ]
  },
  {
   "cell_type": "code",
   "execution_count": null,
   "metadata": {},
   "outputs": [],
   "source": [
    "submissions = json.load(open(\"data/predictions/final_predictions_base.json\"))\n",
    "\n",
    "len(submissions)"
   ]
  },
  {
   "cell_type": "code",
   "execution_count": null,
   "metadata": {},
   "outputs": [],
   "source": [
    "if isinstance(submissions[\"predictions\"][0], list):\n",
    "    submissions[\"predictions\"] = [item for sublist in submissions[\"predictions\"] for item in sublist]\n",
    "    submissions[\"expected\"] = [item for sublist in submissions[\"expected\"] for item in sublist]"
   ]
  },
  {
   "cell_type": "code",
   "execution_count": null,
   "metadata": {},
   "outputs": [],
   "source": [
    "submissions.keys()"
   ]
  },
  {
   "cell_type": "code",
   "execution_count": null,
   "metadata": {},
   "outputs": [],
   "source": [
    "predictions = submissions[\"predictions\"]\n",
    "expected = submissions[\"expected\"]"
   ]
  },
  {
   "cell_type": "code",
   "execution_count": null,
   "metadata": {},
   "outputs": [],
   "source": [
    "predictions[:5]"
   ]
  },
  {
   "cell_type": "code",
   "execution_count": null,
   "metadata": {},
   "outputs": [],
   "source": [
    "expected[:5]"
   ]
  },
  {
   "cell_type": "code",
   "execution_count": null,
   "metadata": {},
   "outputs": [],
   "source": [
    "from sklearn.metrics import (\n",
    "\taccuracy_score,\n",
    "\tprecision_score,\n",
    "\trecall_score,\n",
    "\tf1_score,\n",
    "\tclassification_report,\n",
    ")\n",
    "\n",
    "global_accuracy = accuracy_score(expected, predictions)\n",
    "global_precision = precision_score(expected, predictions, average=\"weighted\", zero_division=0)\n",
    "global_recall = recall_score(expected, predictions, average=\"weighted\", zero_division=0)\n",
    "global_f1 = f1_score(expected, predictions, average=\"weighted\", zero_division=0)\n",
    "report = classification_report(expected, predictions, output_dict=True, zero_division=0)"
   ]
  },
  {
   "cell_type": "code",
   "execution_count": null,
   "metadata": {},
   "outputs": [],
   "source": [
    "results = {\n",
    "\t\"accuracy/avg\": global_accuracy,\n",
    "\t\"precision/avg\": global_precision,\n",
    "\t\"recall/avg\": global_recall,\n",
    "\t\"f1/avg\": global_f1,\n",
    "}\n",
    "\n",
    "results"
   ]
  },
  {
   "cell_type": "code",
   "execution_count": null,
   "metadata": {},
   "outputs": [],
   "source": [
    "report[\"fra_Latn\"]"
   ]
  },
  {
   "cell_type": "code",
   "execution_count": null,
   "metadata": {},
   "outputs": [],
   "source": [
    "from collections import defaultdict\n",
    "\n",
    "clean_results = defaultdict(dict)\n",
    "\n",
    "for k, v in report.items():\n",
    "\tif \"_\" in k:\n",
    "\t\t_, k1 = k.split(\"_\")\n",
    "\t\tclean_results[k1][k] = v\n",
    "\t\n",
    "clean_results.keys()"
   ]
  },
  {
   "cell_type": "code",
   "execution_count": null,
   "metadata": {},
   "outputs": [],
   "source": [
    "scores = {}\n",
    "\n",
    "for k1, raw in clean_results.items():\n",
    "\tprecisions = 0\n",
    "\trecalls = 0\n",
    "\tf1_scores = 0\n",
    "\tsupports = 0\n",
    "\tfor k, v in raw.items():\n",
    "\t\tprecisions += v[\"precision\"]\n",
    "\t\trecalls += v[\"recall\"]\n",
    "\t\tf1_scores += v[\"f1-score\"]\n",
    "\t\tsupports += v[\"support\"]\n",
    "\tprecisions = precisions / len(raw)\n",
    "\trecalls = recalls / len(raw)\n",
    "\tf1_scores = f1_scores / len(raw)\n",
    "\tscores[k1] = {\n",
    "\t\t\"support\": supports,\n",
    "\t\t\"precision\": precisions,\n",
    "\t\t\"recall\": recalls,\n",
    "\t\t\"f1\": f1_scores,\n",
    "\t\t\"size\": len(raw)\n",
    "\t}"
   ]
  },
  {
   "cell_type": "code",
   "execution_count": null,
   "metadata": {},
   "outputs": [],
   "source": [
    "import pandas as pd\n",
    "\n",
    "df = pd.DataFrame(scores).T\n",
    "\n",
    "df.sample(5)"
   ]
  },
  {
   "cell_type": "code",
   "execution_count": null,
   "metadata": {},
   "outputs": [],
   "source": [
    "df.to_csv(\"data/predictions/final_predictions_base.csv\", index=True)"
   ]
  },
  {
   "cell_type": "code",
   "execution_count": null,
   "metadata": {},
   "outputs": [],
   "source": [
    "df.to_markdown(\"data/predictions/final_predictions_base.md\", index=True)"
   ]
  },
  {
   "cell_type": "code",
   "execution_count": null,
   "metadata": {},
   "outputs": [],
   "source": []
  }
 ],
 "metadata": {
  "kernelspec": {
   "display_name": ".venv",
   "language": "python",
   "name": "python3"
  },
  "language_info": {
   "codemirror_mode": {
    "name": "ipython",
    "version": 3
   },
   "file_extension": ".py",
   "mimetype": "text/x-python",
   "name": "python",
   "nbconvert_exporter": "python",
   "pygments_lexer": "ipython3",
   "version": "3.10.13"
  }
 },
 "nbformat": 4,
 "nbformat_minor": 2
}
