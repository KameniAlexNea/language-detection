{
 "cells": [
  {
   "cell_type": "code",
   "execution_count": 1,
   "metadata": {},
   "outputs": [],
   "source": [
    "import os\n",
    "import json\n",
    "from tqdm import tqdm"
   ]
  },
  {
   "cell_type": "code",
   "execution_count": 2,
   "metadata": {},
   "outputs": [
    {
     "data": {
      "text/plain": [
       "2"
      ]
     },
     "execution_count": 2,
     "metadata": {},
     "output_type": "execute_result"
    }
   ],
   "source": [
    "submissions = json.load(open(\"data/predictions/final_predictions_base.json\"))\n",
    "\n",
    "len(submissions)"
   ]
  },
  {
   "cell_type": "code",
   "execution_count": 3,
   "metadata": {},
   "outputs": [
    {
     "data": {
      "text/plain": [
       "dict_keys(['predictions', 'expected'])"
      ]
     },
     "execution_count": 3,
     "metadata": {},
     "output_type": "execute_result"
    }
   ],
   "source": [
    "submissions.keys()"
   ]
  },
  {
   "cell_type": "code",
   "execution_count": 4,
   "metadata": {},
   "outputs": [],
   "source": [
    "predictions = submissions[\"predictions\"]\n",
    "expected = submissions[\"expected\"]"
   ]
  },
  {
   "cell_type": "code",
   "execution_count": 5,
   "metadata": {},
   "outputs": [
    {
     "data": {
      "text/plain": [
       "['ces_Latn', 'mlt_Latn', 'ayr_Latn', 'kmb_Latn', 'uig_Arab']"
      ]
     },
     "execution_count": 5,
     "metadata": {},
     "output_type": "execute_result"
    }
   ],
   "source": [
    "predictions[:5]"
   ]
  },
  {
   "cell_type": "code",
   "execution_count": 6,
   "metadata": {},
   "outputs": [
    {
     "data": {
      "text/plain": [
       "['ces_Latn', 'mlt_Latn', 'ayr_Latn', 'kmb_Latn', 'uig_Arab']"
      ]
     },
     "execution_count": 6,
     "metadata": {},
     "output_type": "execute_result"
    }
   ],
   "source": [
    "expected[:5]"
   ]
  },
  {
   "cell_type": "code",
   "execution_count": 7,
   "metadata": {},
   "outputs": [],
   "source": [
    "from sklearn.metrics import (\n",
    "\taccuracy_score,\n",
    "\tprecision_score,\n",
    "\trecall_score,\n",
    "\tf1_score,\n",
    "\tclassification_report,\n",
    ")\n",
    "\n",
    "global_accuracy = accuracy_score(expected, predictions)\n",
    "global_precision = precision_score(expected, predictions, average=\"weighted\", zero_division=0)\n",
    "global_recall = recall_score(expected, predictions, average=\"weighted\", zero_division=0)\n",
    "global_f1 = f1_score(expected, predictions, average=\"weighted\", zero_division=0)\n",
    "report = classification_report(expected, predictions, output_dict=True, zero_division=0)"
   ]
  },
  {
   "cell_type": "code",
   "execution_count": 8,
   "metadata": {},
   "outputs": [
    {
     "data": {
      "text/plain": [
       "{'accuracy/avg': 0.9594876819079662,\n",
       " 'precision/avg': 0.9596566609837892,\n",
       " 'recall/avg': 0.9594876819079662,\n",
       " 'f1/avg': 0.9594363447462714}"
      ]
     },
     "execution_count": 8,
     "metadata": {},
     "output_type": "execute_result"
    }
   ],
   "source": [
    "results = {\n",
    "\t\"accuracy/avg\": global_accuracy,\n",
    "\t\"precision/avg\": global_precision,\n",
    "\t\"recall/avg\": global_recall,\n",
    "\t\"f1/avg\": global_f1,\n",
    "}\n",
    "\n",
    "results"
   ]
  },
  {
   "cell_type": "code",
   "execution_count": 9,
   "metadata": {},
   "outputs": [
    {
     "data": {
      "text/plain": [
       "{'precision': 0.9710373212062702,\n",
       " 'recall': 0.9817878243000256,\n",
       " 'f1-score': 0.9763829814410341,\n",
       " 'support': 77860.0}"
      ]
     },
     "execution_count": 9,
     "metadata": {},
     "output_type": "execute_result"
    }
   ],
   "source": [
    "report[\"fra_Latn\"]"
   ]
  },
  {
   "cell_type": "code",
   "execution_count": 10,
   "metadata": {},
   "outputs": [
    {
     "data": {
      "text/plain": [
       "dict_keys(['Arab', 'Latn', 'Ethi', 'Beng', 'Deva', 'Cyrl', 'Tibt', 'Grek', 'Gujr', 'Hebr', 'Armn', 'Jpan', 'Knda', 'Geor', 'Khmr', 'Hang', 'Laoo', 'Mlym', 'Mymr', 'Orya', 'Guru', 'Olck', 'Sinh', 'Taml', 'Tfng', 'Telu', 'Thai', 'Hant', 'Hans'])"
      ]
     },
     "execution_count": 10,
     "metadata": {},
     "output_type": "execute_result"
    }
   ],
   "source": [
    "from collections import defaultdict\n",
    "\n",
    "clean_results = defaultdict(dict)\n",
    "\n",
    "for k, v in report.items():\n",
    "\tif \"_\" in k:\n",
    "\t\t_, k1 = k.split(\"_\")\n",
    "\t\tclean_results[k1][k] = v\n",
    "\t\n",
    "clean_results.keys()"
   ]
  },
  {
   "cell_type": "code",
   "execution_count": 11,
   "metadata": {},
   "outputs": [],
   "source": [
    "scores = {}\n",
    "\n",
    "for k1, raw in clean_results.items():\n",
    "\tprecisions = 0\n",
    "\trecalls = 0\n",
    "\tf1_scores = 0\n",
    "\tsupports = 0\n",
    "\tfor k, v in raw.items():\n",
    "\t\tprecisions += v[\"precision\"]\n",
    "\t\trecalls += v[\"recall\"]\n",
    "\t\tf1_scores += v[\"f1-score\"]\n",
    "\t\tsupports += v[\"support\"]\n",
    "\tprecisions = precisions / len(raw)\n",
    "\trecalls = recalls / len(raw)\n",
    "\tf1_scores = f1_scores / len(raw)\n",
    "\tscores[k1] = {\n",
    "\t\t\"support\": supports,\n",
    "\t\t\"precision\": precisions,\n",
    "\t\t\"recall\": recalls,\n",
    "\t\t\"f1\": f1_scores,\n",
    "\t\t\"size\": len(raw)\n",
    "\t}"
   ]
  },
  {
   "cell_type": "code",
   "execution_count": 12,
   "metadata": {},
   "outputs": [
    {
     "data": {
      "text/html": [
       "<div>\n",
       "<style scoped>\n",
       "    .dataframe tbody tr th:only-of-type {\n",
       "        vertical-align: middle;\n",
       "    }\n",
       "\n",
       "    .dataframe tbody tr th {\n",
       "        vertical-align: top;\n",
       "    }\n",
       "\n",
       "    .dataframe thead th {\n",
       "        text-align: right;\n",
       "    }\n",
       "</style>\n",
       "<table border=\"1\" class=\"dataframe\">\n",
       "  <thead>\n",
       "    <tr style=\"text-align: right;\">\n",
       "      <th></th>\n",
       "      <th>support</th>\n",
       "      <th>precision</th>\n",
       "      <th>recall</th>\n",
       "      <th>f1</th>\n",
       "      <th>size</th>\n",
       "    </tr>\n",
       "  </thead>\n",
       "  <tbody>\n",
       "    <tr>\n",
       "      <th>Khmr</th>\n",
       "      <td>39708.0</td>\n",
       "      <td>0.999975</td>\n",
       "      <td>0.999673</td>\n",
       "      <td>0.999824</td>\n",
       "      <td>1.0</td>\n",
       "    </tr>\n",
       "    <tr>\n",
       "      <th>Orya</th>\n",
       "      <td>44976.0</td>\n",
       "      <td>0.999400</td>\n",
       "      <td>0.999666</td>\n",
       "      <td>0.999533</td>\n",
       "      <td>1.0</td>\n",
       "    </tr>\n",
       "    <tr>\n",
       "      <th>Deva</th>\n",
       "      <td>423895.0</td>\n",
       "      <td>0.929529</td>\n",
       "      <td>0.910336</td>\n",
       "      <td>0.919058</td>\n",
       "      <td>10.0</td>\n",
       "    </tr>\n",
       "    <tr>\n",
       "      <th>Laoo</th>\n",
       "      <td>29389.0</td>\n",
       "      <td>0.999864</td>\n",
       "      <td>0.999796</td>\n",
       "      <td>0.999830</td>\n",
       "      <td>1.0</td>\n",
       "    </tr>\n",
       "    <tr>\n",
       "      <th>Hang</th>\n",
       "      <td>108509.0</td>\n",
       "      <td>0.999788</td>\n",
       "      <td>0.999742</td>\n",
       "      <td>0.999765</td>\n",
       "      <td>1.0</td>\n",
       "    </tr>\n",
       "  </tbody>\n",
       "</table>\n",
       "</div>"
      ],
      "text/plain": [
       "       support  precision    recall        f1  size\n",
       "Khmr   39708.0   0.999975  0.999673  0.999824   1.0\n",
       "Orya   44976.0   0.999400  0.999666  0.999533   1.0\n",
       "Deva  423895.0   0.929529  0.910336  0.919058  10.0\n",
       "Laoo   29389.0   0.999864  0.999796  0.999830   1.0\n",
       "Hang  108509.0   0.999788  0.999742  0.999765   1.0"
      ]
     },
     "execution_count": 12,
     "metadata": {},
     "output_type": "execute_result"
    }
   ],
   "source": [
    "import pandas as pd\n",
    "\n",
    "df = pd.DataFrame(scores).T\n",
    "\n",
    "df.sample(5)"
   ]
  },
  {
   "cell_type": "code",
   "execution_count": 13,
   "metadata": {},
   "outputs": [],
   "source": [
    "df.to_csv(\"data/predictions/final_predictions_base.csv\", index=True)"
   ]
  },
  {
   "cell_type": "code",
   "execution_count": null,
   "metadata": {},
   "outputs": [],
   "source": []
  }
 ],
 "metadata": {
  "kernelspec": {
   "display_name": ".venv",
   "language": "python",
   "name": "python3"
  },
  "language_info": {
   "codemirror_mode": {
    "name": "ipython",
    "version": 3
   },
   "file_extension": ".py",
   "mimetype": "text/x-python",
   "name": "python",
   "nbconvert_exporter": "python",
   "pygments_lexer": "ipython3",
   "version": "3.10.13"
  }
 },
 "nbformat": 4,
 "nbformat_minor": 2
}
