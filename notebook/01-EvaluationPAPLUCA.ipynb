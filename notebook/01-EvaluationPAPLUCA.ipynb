{
 "cells": [
  {
   "cell_type": "code",
   "execution_count": null,
   "metadata": {},
   "outputs": [],
   "source": [
    "%cd .."
   ]
  },
  {
   "cell_type": "code",
   "execution_count": null,
   "metadata": {},
   "outputs": [],
   "source": [
    "import os\n",
    "import json\n",
    "from tqdm import tqdm"
   ]
  },
  {
   "cell_type": "code",
   "execution_count": null,
   "metadata": {},
   "outputs": [],
   "source": [
    "submissions = json.load(open(\"data/predictions/final_predictions_base.json\"))\n",
    "\n",
    "len(submissions)"
   ]
  },
  {
   "cell_type": "code",
   "execution_count": null,
   "metadata": {},
   "outputs": [],
   "source": [
    "if isinstance(submissions[\"predictions\"][0], list):\n",
    "    submissions[\"predictions\"] = [item for sublist in submissions[\"predictions\"] for item in sublist]\n",
    "    submissions[\"expected\"] = [item for sublist in submissions[\"expected\"] for item in sublist]"
   ]
  },
  {
   "cell_type": "code",
   "execution_count": null,
   "metadata": {},
   "outputs": [],
   "source": [
    "submissions.keys()"
   ]
  },
  {
   "cell_type": "code",
   "execution_count": null,
   "metadata": {},
   "outputs": [],
   "source": [
    "import pycountry\n",
    "\n",
    "CODE_SEPARATOR = \"_\"\n",
    "def to_iso639_1(code: str) -> str:\n",
    "\t\"\"\"Convert language code to ISO 639-1 format.\n",
    "\n",
    "\tArgs:\n",
    "\t\tcode: Raw language code from model prediction\n",
    "\n",
    "\tReturns:\n",
    "\t\tNormalized ISO 639-1 language code\n",
    "\t\"\"\"\n",
    "\t# Extract base language code before any dialect/script indicators\n",
    "\tbase_code = code.split(CODE_SEPARATOR)[0]\n",
    "\n",
    "\ttry:\n",
    "\t\t# Convert to ISO 639-1 via pycountry\n",
    "\t\tlang = pycountry.languages.get(alpha_3=base_code)\n",
    "\t\tif not lang:\n",
    "\t\t\treturn base_code\n",
    "\t\treturn lang.alpha_2\n",
    "\n",
    "\texcept (AttributeError, KeyError):\n",
    "\t\t# Fallback to original code if conversion fails\n",
    "\t\tif \"Arab\" in code:\n",
    "\t\t\treturn \"ar\"\n",
    "\t\treturn code"
   ]
  },
  {
   "cell_type": "code",
   "execution_count": null,
   "metadata": {},
   "outputs": [],
   "source": [
    "predictions = [to_iso639_1(i) for i in submissions[\"predictions\"]]\n",
    "expected = submissions[\"expected\"]"
   ]
  },
  {
   "cell_type": "code",
   "execution_count": null,
   "metadata": {},
   "outputs": [],
   "source": [
    "unique_languages = set(submissions[\"predictions\"])\n",
    "unique_languages"
   ]
  },
  {
   "cell_type": "code",
   "execution_count": null,
   "metadata": {},
   "outputs": [],
   "source": [
    "[to_iso639_1(i) for i in unique_languages]"
   ]
  },
  {
   "cell_type": "code",
   "execution_count": null,
   "metadata": {},
   "outputs": [],
   "source": [
    "predictions[:5]"
   ]
  },
  {
   "cell_type": "code",
   "execution_count": null,
   "metadata": {},
   "outputs": [],
   "source": [
    "expected[:5]"
   ]
  },
  {
   "cell_type": "code",
   "execution_count": null,
   "metadata": {},
   "outputs": [],
   "source": [
    "from sklearn.metrics import (\n",
    "\taccuracy_score,\n",
    "\tprecision_score,\n",
    "\trecall_score,\n",
    "\tf1_score,\n",
    "\tclassification_report,\n",
    ")\n",
    "\n",
    "global_accuracy = accuracy_score(expected, predictions)\n",
    "global_precision = precision_score(expected, predictions, average=\"weighted\", zero_division=0)\n",
    "global_recall = recall_score(expected, predictions, average=\"weighted\", zero_division=0)\n",
    "global_f1 = f1_score(expected, predictions, average=\"weighted\", zero_division=0)\n",
    "report = classification_report(expected, predictions, output_dict=True, zero_division=0)"
   ]
  },
  {
   "cell_type": "code",
   "execution_count": null,
   "metadata": {},
   "outputs": [],
   "source": [
    "results = {\n",
    "\t\"accuracy/avg\": global_accuracy,\n",
    "\t\"precision/avg\": global_precision,\n",
    "\t\"recall/avg\": global_recall,\n",
    "\t\"f1/avg\": global_f1,\n",
    "}\n",
    "\n",
    "results"
   ]
  },
  {
   "cell_type": "code",
   "execution_count": null,
   "metadata": {},
   "outputs": [],
   "source": [
    "report[\"fr\"]"
   ]
  },
  {
   "cell_type": "code",
   "execution_count": null,
   "metadata": {},
   "outputs": [],
   "source": [
    "scores = report"
   ]
  },
  {
   "cell_type": "code",
   "execution_count": null,
   "metadata": {},
   "outputs": [],
   "source": [
    "import pandas as pd\n",
    "\n",
    "df = pd.DataFrame(scores).T\n",
    "\n",
    "df.sample(5)"
   ]
  },
  {
   "cell_type": "code",
   "execution_count": null,
   "metadata": {},
   "outputs": [],
   "source": [
    "df.to_csv(\"data/predictions/final_predictions_base.csv\", index=True)"
   ]
  },
  {
   "cell_type": "code",
   "execution_count": null,
   "metadata": {},
   "outputs": [],
   "source": [
    "df.to_markdown(\"data/predictions/final_predictions_base.md\", index=True)"
   ]
  },
  {
   "cell_type": "code",
   "execution_count": null,
   "metadata": {},
   "outputs": [],
   "source": [
    "submissions = pd.DataFrame(submissions)\n",
    "\n",
    "submissions.sample(5)"
   ]
  },
  {
   "cell_type": "code",
   "execution_count": null,
   "metadata": {},
   "outputs": [],
   "source": [
    "submissions[\"predictions\"] = submissions[\"predictions\"].apply(to_iso639_1)\n",
    "\n",
    "submissions.sample(5)"
   ]
  },
  {
   "cell_type": "code",
   "execution_count": null,
   "metadata": {},
   "outputs": [],
   "source": [
    "submissions[submissions[\"predictions\"] != submissions[\"expected\"]]"
   ]
  },
  {
   "cell_type": "code",
   "execution_count": null,
   "metadata": {},
   "outputs": [],
   "source": [
    "submissions[(submissions[\"predictions\"] != submissions[\"expected\"]) & submissions[\"predictions\"].apply(lambda x: len(x) > 2)]"
   ]
  },
  {
   "cell_type": "code",
   "execution_count": null,
   "metadata": {},
   "outputs": [],
   "source": [
    "raws = submissions[(submissions[\"predictions\"] != submissions[\"expected\"]) & submissions[\"predictions\"].apply(lambda x: len(x) > 3)]\n",
    "print(len(raws))\n",
    "\n",
    "raws = raws.drop_duplicates()\n",
    "\n",
    "print(len(raws))"
   ]
  },
  {
   "cell_type": "code",
   "execution_count": null,
   "metadata": {},
   "outputs": [],
   "source": [
    "raws"
   ]
  },
  {
   "cell_type": "code",
   "execution_count": null,
   "metadata": {},
   "outputs": [],
   "source": []
  }
 ],
 "metadata": {
  "kernelspec": {
   "display_name": ".venv",
   "language": "python",
   "name": "python3"
  },
  "language_info": {
   "codemirror_mode": {
    "name": "ipython",
    "version": 3
   },
   "file_extension": ".py",
   "mimetype": "text/x-python",
   "name": "python",
   "nbconvert_exporter": "python",
   "pygments_lexer": "ipython3",
   "version": "3.10.13"
  }
 },
 "nbformat": 4,
 "nbformat_minor": 2
}
