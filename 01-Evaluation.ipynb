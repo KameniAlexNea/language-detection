{
 "cells": [
  {
   "cell_type": "code",
   "execution_count": 1,
   "metadata": {},
   "outputs": [],
   "source": [
    "import os\n",
    "import json\n",
    "from tqdm import tqdm\n",
    "\n",
    "import datasets\n",
    "from transformers import pipeline"
   ]
  },
  {
   "cell_type": "code",
   "execution_count": 2,
   "metadata": {},
   "outputs": [
    {
     "data": {
      "text/plain": [
       "Dataset({\n",
       "    features: ['src', 'lang', 'text'],\n",
       "    num_rows: 12013630\n",
       "})"
      ]
     },
     "execution_count": 2,
     "metadata": {},
     "output_type": "execute_result"
    }
   ],
   "source": [
    "test = datasets.load_from_disk(\"data/test_dataset\")\n",
    "test"
   ]
  },
  {
   "cell_type": "code",
   "execution_count": 3,
   "metadata": {},
   "outputs": [],
   "source": [
    "batch_size = 512"
   ]
  },
  {
   "cell_type": "code",
   "execution_count": 4,
   "metadata": {},
   "outputs": [
    {
     "name": "stderr",
     "output_type": "stream",
     "text": [
      "Device set to use cuda:0\n"
     ]
    }
   ],
   "source": [
    "model = pipeline(\"text-classification\", \"data/results/checkpoint-76000\", truncation=True, padding=\"max_length\", batch_size=batch_size)"
   ]
  },
  {
   "cell_type": "code",
   "execution_count": 5,
   "metadata": {},
   "outputs": [
    {
     "name": "stdout",
     "output_type": "stream",
     "text": [
      "{'src': ['mt560', 'mt560', 'mt560', 'mt560', 'lti'], 'lang': ['ces_Latn', 'mlt_Latn', 'ayr_Latn', 'kmb_Latn', 'uig_Arab'], 'text': ['Co kdybychom dokázali vytvořit struktury, které by byly doplňkem živé hmoty?', \"L-Artikolu 8 (1) (a) (ii) tar-Regolament (KE) Nru 998 / 2003 jipprevedi li, f'każijiet fejn il-pets jittieħdu minn ċerti pajjiżi terzi lejn l-Irlanda, Malta, l-Isvezja u r-Renju Unit, għandhom japplikaw il-ħtiġiet addizzjonali previsti fl-Artikolu 6 ta 'dak ir-Regolament.\", '\"Cristo\" aruxa kjristós uka griego arutwa juti, hebreo arutxa maschíaj (mesías) sasirakispawa.', 'Mu jimbulule, mukonda diahi o ku bhanga o kikalakalu kiki, ki suínisa dingi o kikalakalu kia ku boka o njimbu ia Utuminu.', 'بۇلارنىڭ ھەممىسى يات ئەللىك خوتۇنلارنى ئالغانلار ئىدى، ۋە شۇنىڭدەك ئۇلاردىن بەزىلەرنىڭ خوتۇنلىرى پەرزەنتمۇ كۆرگەنىدى.']}\n",
      "[{'label': 'ces_Latn', 'score': 0.9999101161956787}, {'label': 'mlt_Latn', 'score': 0.9997753500938416}, {'label': 'ayr_Latn', 'score': 0.9823504686355591}, {'label': 'kmb_Latn', 'score': 0.999984860420227}, {'label': 'uig_Arab', 'score': 0.9999078512191772}]\n"
     ]
    }
   ],
   "source": [
    "examples = test[:5]\n",
    "print(examples)\n",
    "preds = model(examples[\"text\"])\n",
    "print(preds)"
   ]
  },
  {
   "cell_type": "code",
   "execution_count": 6,
   "metadata": {},
   "outputs": [
    {
     "name": "stderr",
     "output_type": "stream",
     "text": [
      "9it [00:05,  1.56it/s]You seem to be using the pipelines sequentially on GPU. In order to maximize efficiency please use a dataset\n",
      "1500it [16:45,  1.49it/s]\n"
     ]
    },
    {
     "ename": "KeyboardInterrupt",
     "evalue": "",
     "output_type": "error",
     "traceback": [
      "\u001b[0;31m---------------------------------------------------------------------------\u001b[0m",
      "\u001b[0;31mKeyboardInterrupt\u001b[0m                         Traceback (most recent call last)",
      "Cell \u001b[0;32mIn[6], line 10\u001b[0m\n\u001b[1;32m      8\u001b[0m \u001b[38;5;28;01mif\u001b[39;00m i \u001b[38;5;241m%\u001b[39m \u001b[38;5;241m100\u001b[39m \u001b[38;5;241m==\u001b[39m \u001b[38;5;241m0\u001b[39m:\n\u001b[1;32m      9\u001b[0m \t\u001b[38;5;28;01mwith\u001b[39;00m \u001b[38;5;28mopen\u001b[39m(\u001b[38;5;124m\"\u001b[39m\u001b[38;5;124mdata/predictions/save.json\u001b[39m\u001b[38;5;124m\"\u001b[39m, \u001b[38;5;124m\"\u001b[39m\u001b[38;5;124mw\u001b[39m\u001b[38;5;124m\"\u001b[39m) \u001b[38;5;28;01mas\u001b[39;00m file:\n\u001b[0;32m---> 10\u001b[0m \t\t\u001b[43mjson\u001b[49m\u001b[38;5;241;43m.\u001b[39;49m\u001b[43mdump\u001b[49m\u001b[43m(\u001b[49m\u001b[43m{\u001b[49m\u001b[38;5;124;43m\"\u001b[39;49m\u001b[38;5;124;43mprediction\u001b[39;49m\u001b[38;5;124;43m\"\u001b[39;49m\u001b[43m:\u001b[49m\u001b[43m \u001b[49m\u001b[43mpreds_labels\u001b[49m\u001b[43m,\u001b[49m\u001b[43m \u001b[49m\u001b[38;5;124;43m\"\u001b[39;49m\u001b[38;5;124;43mexpected\u001b[39;49m\u001b[38;5;124;43m\"\u001b[39;49m\u001b[43m:\u001b[49m\u001b[43m \u001b[49m\u001b[43mgt_labels\u001b[49m\u001b[43m}\u001b[49m\u001b[43m,\u001b[49m\u001b[43m \u001b[49m\u001b[43mfile\u001b[49m\u001b[43m)\u001b[49m\n",
      "File \u001b[0;32m~/.pyenv/versions/3.10.13/lib/python3.10/json/__init__.py:180\u001b[0m, in \u001b[0;36mdump\u001b[0;34m(obj, fp, skipkeys, ensure_ascii, check_circular, allow_nan, cls, indent, separators, default, sort_keys, **kw)\u001b[0m\n\u001b[1;32m    177\u001b[0m \u001b[38;5;66;03m# could accelerate with writelines in some versions of Python, at\u001b[39;00m\n\u001b[1;32m    178\u001b[0m \u001b[38;5;66;03m# a debuggability cost\u001b[39;00m\n\u001b[1;32m    179\u001b[0m \u001b[38;5;28;01mfor\u001b[39;00m chunk \u001b[38;5;129;01min\u001b[39;00m iterable:\n\u001b[0;32m--> 180\u001b[0m     \u001b[43mfp\u001b[49m\u001b[38;5;241;43m.\u001b[39;49m\u001b[43mwrite\u001b[49m\u001b[43m(\u001b[49m\u001b[43mchunk\u001b[49m\u001b[43m)\u001b[49m\n",
      "\u001b[0;31mKeyboardInterrupt\u001b[0m: "
     ]
    }
   ],
   "source": [
    "gt_labels = []\n",
    "preds_labels = []\n",
    "for i, examples in tqdm(enumerate(test.iter(batch_size=batch_size))):\n",
    "\tpreds = model(examples[\"text\"])\n",
    "\tgt_labels.append(examples[\"lang\"])\n",
    "\tpreds_labels.append(preds)\n",
    "\t\n",
    "\tif i % 100 == 0:\n",
    "\t\twith open(\"data/predictions/save.json\", \"w\") as file:\n",
    "\t\t\tjson.dump({\"prediction\": preds_labels, \"expected\": gt_labels}, file)"
   ]
  },
  {
   "cell_type": "code",
   "execution_count": null,
   "metadata": {},
   "outputs": [],
   "source": []
  }
 ],
 "metadata": {
  "kernelspec": {
   "display_name": ".venv",
   "language": "python",
   "name": "python3"
  },
  "language_info": {
   "codemirror_mode": {
    "name": "ipython",
    "version": 3
   },
   "file_extension": ".py",
   "mimetype": "text/x-python",
   "name": "python",
   "nbconvert_exporter": "python",
   "pygments_lexer": "ipython3",
   "version": "3.10.13"
  }
 },
 "nbformat": 4,
 "nbformat_minor": 2
}
